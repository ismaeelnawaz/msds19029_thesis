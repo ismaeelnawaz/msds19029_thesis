{
 "cells": [
  {
   "cell_type": "code",
   "execution_count": 8,
   "id": "427de9b1",
   "metadata": {},
   "outputs": [],
   "source": [
    "from sklearn.metrics import classification_report, confusion_matrix\n",
    "from sklearn.model_selection import KFold, StratifiedKFold\n",
    "from sklearn.model_selection import train_test_split\n",
    "from lightgbm import LGBMClassifier\n",
    "import lightgbm as lgb\n",
    "import pandas as pd\n",
    "import numpy as np\n",
    "import warnings\n",
    "import gc\n",
    "\n",
    "from common import data_load_home_credit, find_optimal_cutoff, plot_confusion_matrix, plot_auc\n",
    "\n",
    "warnings.simplefilter(action='ignore', category=FutureWarning)\n",
    "pd.set_option('display.max_columns', None)\n",
    "pd.set_option('display.max_rows', None)"
   ]
  },
  {
   "cell_type": "code",
   "execution_count": 15,
   "id": "2aa9428c",
   "metadata": {},
   "outputs": [],
   "source": [
    "train, test = data_load_home_credit('/media/ismaeel/Work/msds19029_thesis/dataset/home_with_missing.csv')"
   ]
  },
  {
   "cell_type": "code",
   "execution_count": 3,
   "id": "0d4d090a",
   "metadata": {},
   "outputs": [],
   "source": [
    "def kfold_lightgbm_sklearn(train, test, categorical_feature = None):\n",
    "    \n",
    "    print(\"Train/valid shape: {}, test shape: {}\".format(train.shape, test.shape))\n",
    "    del_features = ['TARGET', 'SK_ID_CURR', 'SK_ID_BUREAU', 'SK_ID_PREV', 'index', 'level_0']\n",
    "    predictors = list(filter(lambda v: v not in del_features, train.columns))\n",
    "\n",
    "    if not STRATIFIED_KFOLD:\n",
    "        folds = KFold(n_splits= NUM_FOLDS, shuffle=True, random_state= RANDOM_SEED)\n",
    "    else:\n",
    "        folds = StratifiedKFold(n_splits= NUM_FOLDS, shuffle=True, random_state= RANDOM_SEED)\n",
    "\n",
    "    oof_preds = np.zeros(train.shape[0])\n",
    "    eval_results = dict()\n",
    "\n",
    "    for n_fold, (train_idx, valid_idx) in enumerate(folds.split(train[predictors], train['TARGET'])):\n",
    "        \n",
    "        train_x, train_y = train[predictors].iloc[train_idx], train['TARGET'].iloc[train_idx]\n",
    "        valid_x, valid_y = train[predictors].iloc[valid_idx], train['TARGET'].iloc[valid_idx]\n",
    "\n",
    "        params = {'random_state': RANDOM_SEED, 'nthread': NUM_THREADS}\n",
    "        clf = LGBMClassifier(**{**params, **LIGHTGBM_PARAMS})\n",
    "        if not categorical_feature:\n",
    "            clf.fit(train_x, train_y, eval_set=[(train_x, train_y), (valid_x, valid_y)],\n",
    "                    eval_metric='auc', verbose=400, early_stopping_rounds= EARLY_STOPPING)\n",
    "        else:\n",
    "            clf.fit(train_x, train_y, eval_set=[(train_x, train_y), (valid_x, valid_y)],\n",
    "                    eval_metric='auc', verbose=400, early_stopping_rounds=EARLY_STOPPING,\n",
    "                    feature_name= list(train[predictors].columns), categorical_feature= categorical_feature)\n",
    "            \n",
    "        clf.booster_.save_model('/media/ismaeel/Work/ThesisandProjects/msds19029_thesis/saved_models/LGBM.txt')\n",
    "        oof_preds[valid_idx] = clf.predict_proba(valid_x, num_iteration=clf.best_iteration_)[:, 1]\n",
    "        \n",
    "        eval_results['train_{}'.format(n_fold+1)]  = clf.evals_result_['training']['auc']\n",
    "        eval_results['valid_{}'.format(n_fold+1)] = clf.evals_result_['valid_1']['auc']\n",
    "\n",
    "        print('Fold %2d AUC : %.6f' % (n_fold + 1, roc_auc_score(valid_y, oof_preds[valid_idx])))\n",
    "        del clf, train_x, train_y, valid_x, valid_y\n",
    "        gc.collect()\n",
    "\n",
    "    print('Full AUC score %.6f' % roc_auc_score(train['TARGET'], oof_preds))\n",
    "    \n",
    "    return clf"
   ]
  },
  {
   "cell_type": "code",
   "execution_count": 6,
   "id": "2daedf24",
   "metadata": {},
   "outputs": [],
   "source": [
    "STRATIFIED_KFOLD = False\n",
    "RANDOM_SEED = 737851\n",
    "NUM_FOLDS = 10\n",
    "EARLY_STOPPING = 100\n",
    "NUM_THREADS = 4\n",
    "\n",
    "LIGHTGBM_PARAMS = {\n",
    "    'boosting_type': 'goss',\n",
    "    'n_estimators': 10000,\n",
    "    'learning_rate': 0.005134,\n",
    "    'num_leaves': 54,\n",
    "    'max_depth': 10,\n",
    "    'subsample_for_bin': 240000,\n",
    "    'reg_alpha': 0.436193,\n",
    "    'reg_lambda': 0.479169,\n",
    "    'colsample_bytree': 0.508716,\n",
    "    'min_split_gain': 0.024766,\n",
    "    'subsample': 1,\n",
    "    'is_unbalance': False,\n",
    "    'silent':-1,\n",
    "    'verbose':-1\n",
    "}"
   ]
  },
  {
   "cell_type": "code",
   "execution_count": 7,
   "id": "1c64eab2",
   "metadata": {},
   "outputs": [
    {
     "name": "stdout",
     "output_type": "stream",
     "text": [
      "Train/valid shape: (239818, 256), test shape: (26647, 256)\n"
     ]
    },
    {
     "name": "stderr",
     "output_type": "stream",
     "text": [
      "/media/ismaeel/Work/ThesisandProjects/msds19029_thesis/env/lib/python3.8/site-packages/lightgbm/basic.py:1702: UserWarning: Using categorical_feature in Dataset.\n",
      "  _log_warning('Using categorical_feature in Dataset.')\n",
      "/media/ismaeel/Work/ThesisandProjects/msds19029_thesis/env/lib/python3.8/site-packages/lightgbm/basic.py:1705: UserWarning: categorical_feature in Dataset is overridden.\n",
      "New categorical_feature is ['CODE_GENDER', 'FLAG_OWN_CAR', 'NAME_CONTRACT_TYPE', 'NAME_EDUCATION_TYPE', 'NAME_FAMILY_STATUS', 'NAME_HOUSING_TYPE', 'NAME_INCOME_TYPE', 'NAME_TYPE_SUITE', 'OCCUPATION_TYPE', 'ORGANIZATION_TYPE', 'WALLSMATERIAL_MODE', 'WEEKDAY_APPR_PROCESS_START']\n",
      "  _log_warning('categorical_feature in Dataset is overridden.\\n'\n"
     ]
    },
    {
     "name": "stdout",
     "output_type": "stream",
     "text": [
      "[LightGBM] [Warning] num_threads is set with nthread=4, will be overridden by n_jobs=-1. Current value: num_threads=-1\n"
     ]
    },
    {
     "name": "stderr",
     "output_type": "stream",
     "text": [
      "/media/ismaeel/Work/ThesisandProjects/msds19029_thesis/env/lib/python3.8/site-packages/lightgbm/basic.py:1433: UserWarning: Overriding the parameters from Reference Dataset.\n",
      "  _log_warning('Overriding the parameters from Reference Dataset.')\n",
      "/media/ismaeel/Work/ThesisandProjects/msds19029_thesis/env/lib/python3.8/site-packages/lightgbm/basic.py:1245: UserWarning: categorical_column in param dict is overridden.\n",
      "  _log_warning('{} in param dict is overridden.'.format(cat_alias))\n"
     ]
    },
    {
     "name": "stdout",
     "output_type": "stream",
     "text": [
      "Training until validation scores don't improve for 100 rounds\n",
      "[400]\ttraining's auc: 0.795313\ttraining's binary_logloss: 0.240306\tvalid_1's auc: 0.761141\tvalid_1's binary_logloss: 0.24855\n",
      "[800]\ttraining's auc: 0.822414\ttraining's binary_logloss: 0.228423\tvalid_1's auc: 0.770462\tvalid_1's binary_logloss: 0.243855\n",
      "[1200]\ttraining's auc: 0.842029\ttraining's binary_logloss: 0.220317\tvalid_1's auc: 0.774395\tvalid_1's binary_logloss: 0.242229\n",
      "[1600]\ttraining's auc: 0.858933\ttraining's binary_logloss: 0.213425\tvalid_1's auc: 0.776516\tvalid_1's binary_logloss: 0.241442\n",
      "[2000]\ttraining's auc: 0.873491\ttraining's binary_logloss: 0.207336\tvalid_1's auc: 0.777595\tvalid_1's binary_logloss: 0.241119\n",
      "Early stopping, best iteration is:\n",
      "[2069]\ttraining's auc: 0.875761\ttraining's binary_logloss: 0.206351\tvalid_1's auc: 0.777725\tvalid_1's binary_logloss: 0.241075\n",
      "Fold  1 AUC : 0.777725\n"
     ]
    },
    {
     "name": "stderr",
     "output_type": "stream",
     "text": [
      "/media/ismaeel/Work/ThesisandProjects/msds19029_thesis/env/lib/python3.8/site-packages/lightgbm/basic.py:1702: UserWarning: Using categorical_feature in Dataset.\n",
      "  _log_warning('Using categorical_feature in Dataset.')\n",
      "/media/ismaeel/Work/ThesisandProjects/msds19029_thesis/env/lib/python3.8/site-packages/lightgbm/basic.py:1705: UserWarning: categorical_feature in Dataset is overridden.\n",
      "New categorical_feature is ['CODE_GENDER', 'FLAG_OWN_CAR', 'NAME_CONTRACT_TYPE', 'NAME_EDUCATION_TYPE', 'NAME_FAMILY_STATUS', 'NAME_HOUSING_TYPE', 'NAME_INCOME_TYPE', 'NAME_TYPE_SUITE', 'OCCUPATION_TYPE', 'ORGANIZATION_TYPE', 'WALLSMATERIAL_MODE', 'WEEKDAY_APPR_PROCESS_START']\n",
      "  _log_warning('categorical_feature in Dataset is overridden.\\n'\n"
     ]
    },
    {
     "name": "stdout",
     "output_type": "stream",
     "text": [
      "[LightGBM] [Warning] num_threads is set with nthread=4, will be overridden by n_jobs=-1. Current value: num_threads=-1\n"
     ]
    },
    {
     "name": "stderr",
     "output_type": "stream",
     "text": [
      "/media/ismaeel/Work/ThesisandProjects/msds19029_thesis/env/lib/python3.8/site-packages/lightgbm/basic.py:1433: UserWarning: Overriding the parameters from Reference Dataset.\n",
      "  _log_warning('Overriding the parameters from Reference Dataset.')\n",
      "/media/ismaeel/Work/ThesisandProjects/msds19029_thesis/env/lib/python3.8/site-packages/lightgbm/basic.py:1245: UserWarning: categorical_column in param dict is overridden.\n",
      "  _log_warning('{} in param dict is overridden.'.format(cat_alias))\n"
     ]
    },
    {
     "name": "stdout",
     "output_type": "stream",
     "text": [
      "Training until validation scores don't improve for 100 rounds\n",
      "[400]\ttraining's auc: 0.794125\ttraining's binary_logloss: 0.240459\tvalid_1's auc: 0.772825\tvalid_1's binary_logloss: 0.247282\n",
      "[800]\ttraining's auc: 0.82149\ttraining's binary_logloss: 0.228652\tvalid_1's auc: 0.784019\tvalid_1's binary_logloss: 0.241647\n",
      "[1200]\ttraining's auc: 0.841234\ttraining's binary_logloss: 0.220585\tvalid_1's auc: 0.788124\tvalid_1's binary_logloss: 0.239711\n",
      "[1600]\ttraining's auc: 0.857966\ttraining's binary_logloss: 0.213766\tvalid_1's auc: 0.79034\tvalid_1's binary_logloss: 0.238783\n",
      "[2000]\ttraining's auc: 0.872757\ttraining's binary_logloss: 0.207646\tvalid_1's auc: 0.791475\tvalid_1's binary_logloss: 0.238286\n",
      "[2400]\ttraining's auc: 0.885892\ttraining's binary_logloss: 0.202006\tvalid_1's auc: 0.792074\tvalid_1's binary_logloss: 0.238045\n",
      "[2800]\ttraining's auc: 0.897526\ttraining's binary_logloss: 0.196786\tvalid_1's auc: 0.792585\tvalid_1's binary_logloss: 0.237852\n",
      "Early stopping, best iteration is:\n",
      "[3066]\ttraining's auc: 0.904466\ttraining's binary_logloss: 0.193488\tvalid_1's auc: 0.792904\tvalid_1's binary_logloss: 0.23775\n",
      "Fold  2 AUC : 0.792904\n"
     ]
    },
    {
     "name": "stderr",
     "output_type": "stream",
     "text": [
      "/media/ismaeel/Work/ThesisandProjects/msds19029_thesis/env/lib/python3.8/site-packages/lightgbm/basic.py:1702: UserWarning: Using categorical_feature in Dataset.\n",
      "  _log_warning('Using categorical_feature in Dataset.')\n",
      "/media/ismaeel/Work/ThesisandProjects/msds19029_thesis/env/lib/python3.8/site-packages/lightgbm/basic.py:1705: UserWarning: categorical_feature in Dataset is overridden.\n",
      "New categorical_feature is ['CODE_GENDER', 'FLAG_OWN_CAR', 'NAME_CONTRACT_TYPE', 'NAME_EDUCATION_TYPE', 'NAME_FAMILY_STATUS', 'NAME_HOUSING_TYPE', 'NAME_INCOME_TYPE', 'NAME_TYPE_SUITE', 'OCCUPATION_TYPE', 'ORGANIZATION_TYPE', 'WALLSMATERIAL_MODE', 'WEEKDAY_APPR_PROCESS_START']\n",
      "  _log_warning('categorical_feature in Dataset is overridden.\\n'\n"
     ]
    },
    {
     "name": "stdout",
     "output_type": "stream",
     "text": [
      "[LightGBM] [Warning] num_threads is set with nthread=4, will be overridden by n_jobs=-1. Current value: num_threads=-1\n"
     ]
    },
    {
     "name": "stderr",
     "output_type": "stream",
     "text": [
      "/media/ismaeel/Work/ThesisandProjects/msds19029_thesis/env/lib/python3.8/site-packages/lightgbm/basic.py:1433: UserWarning: Overriding the parameters from Reference Dataset.\n",
      "  _log_warning('Overriding the parameters from Reference Dataset.')\n",
      "/media/ismaeel/Work/ThesisandProjects/msds19029_thesis/env/lib/python3.8/site-packages/lightgbm/basic.py:1245: UserWarning: categorical_column in param dict is overridden.\n",
      "  _log_warning('{} in param dict is overridden.'.format(cat_alias))\n"
     ]
    },
    {
     "name": "stdout",
     "output_type": "stream",
     "text": [
      "Training until validation scores don't improve for 100 rounds\n",
      "[400]\ttraining's auc: 0.794917\ttraining's binary_logloss: 0.240337\tvalid_1's auc: 0.767199\tvalid_1's binary_logloss: 0.24794\n",
      "[800]\ttraining's auc: 0.822025\ttraining's binary_logloss: 0.228508\tvalid_1's auc: 0.777788\tvalid_1's binary_logloss: 0.242734\n",
      "[1200]\ttraining's auc: 0.841557\ttraining's binary_logloss: 0.220425\tvalid_1's auc: 0.782277\tvalid_1's binary_logloss: 0.240876\n",
      "[1600]\ttraining's auc: 0.858185\ttraining's binary_logloss: 0.213651\tvalid_1's auc: 0.78425\tvalid_1's binary_logloss: 0.240049\n",
      "[2000]\ttraining's auc: 0.87285\ttraining's binary_logloss: 0.207531\tvalid_1's auc: 0.785481\tvalid_1's binary_logloss: 0.23957\n",
      "Early stopping, best iteration is:\n",
      "[2130]\ttraining's auc: 0.877219\ttraining's binary_logloss: 0.205682\tvalid_1's auc: 0.785624\tvalid_1's binary_logloss: 0.239494\n",
      "Fold  3 AUC : 0.785624\n"
     ]
    },
    {
     "name": "stderr",
     "output_type": "stream",
     "text": [
      "/media/ismaeel/Work/ThesisandProjects/msds19029_thesis/env/lib/python3.8/site-packages/lightgbm/basic.py:1702: UserWarning: Using categorical_feature in Dataset.\n",
      "  _log_warning('Using categorical_feature in Dataset.')\n",
      "/media/ismaeel/Work/ThesisandProjects/msds19029_thesis/env/lib/python3.8/site-packages/lightgbm/basic.py:1705: UserWarning: categorical_feature in Dataset is overridden.\n",
      "New categorical_feature is ['CODE_GENDER', 'FLAG_OWN_CAR', 'NAME_CONTRACT_TYPE', 'NAME_EDUCATION_TYPE', 'NAME_FAMILY_STATUS', 'NAME_HOUSING_TYPE', 'NAME_INCOME_TYPE', 'NAME_TYPE_SUITE', 'OCCUPATION_TYPE', 'ORGANIZATION_TYPE', 'WALLSMATERIAL_MODE', 'WEEKDAY_APPR_PROCESS_START']\n",
      "  _log_warning('categorical_feature in Dataset is overridden.\\n'\n"
     ]
    },
    {
     "name": "stdout",
     "output_type": "stream",
     "text": [
      "[LightGBM] [Warning] num_threads is set with nthread=4, will be overridden by n_jobs=-1. Current value: num_threads=-1\n"
     ]
    },
    {
     "name": "stderr",
     "output_type": "stream",
     "text": [
      "/media/ismaeel/Work/ThesisandProjects/msds19029_thesis/env/lib/python3.8/site-packages/lightgbm/basic.py:1433: UserWarning: Overriding the parameters from Reference Dataset.\n",
      "  _log_warning('Overriding the parameters from Reference Dataset.')\n",
      "/media/ismaeel/Work/ThesisandProjects/msds19029_thesis/env/lib/python3.8/site-packages/lightgbm/basic.py:1245: UserWarning: categorical_column in param dict is overridden.\n",
      "  _log_warning('{} in param dict is overridden.'.format(cat_alias))\n"
     ]
    },
    {
     "name": "stdout",
     "output_type": "stream",
     "text": [
      "Training until validation scores don't improve for 100 rounds\n",
      "[400]\ttraining's auc: 0.795458\ttraining's binary_logloss: 0.240079\tvalid_1's auc: 0.755693\tvalid_1's binary_logloss: 0.250136\n",
      "[800]\ttraining's auc: 0.822493\ttraining's binary_logloss: 0.228236\tvalid_1's auc: 0.766347\tvalid_1's binary_logloss: 0.245698\n",
      "[1200]\ttraining's auc: 0.842311\ttraining's binary_logloss: 0.220085\tvalid_1's auc: 0.770555\tvalid_1's binary_logloss: 0.244237\n",
      "[1600]\ttraining's auc: 0.858765\ttraining's binary_logloss: 0.213271\tvalid_1's auc: 0.772625\tvalid_1's binary_logloss: 0.243516\n",
      "[2000]\ttraining's auc: 0.873345\ttraining's binary_logloss: 0.207193\tvalid_1's auc: 0.773626\tvalid_1's binary_logloss: 0.24322\n",
      "[2400]\ttraining's auc: 0.886406\ttraining's binary_logloss: 0.201596\tvalid_1's auc: 0.774167\tvalid_1's binary_logloss: 0.243061\n",
      "Early stopping, best iteration is:\n",
      "[2559]\ttraining's auc: 0.891162\ttraining's binary_logloss: 0.199459\tvalid_1's auc: 0.774421\tvalid_1's binary_logloss: 0.242978\n",
      "Fold  4 AUC : 0.774421\n"
     ]
    },
    {
     "name": "stderr",
     "output_type": "stream",
     "text": [
      "/media/ismaeel/Work/ThesisandProjects/msds19029_thesis/env/lib/python3.8/site-packages/lightgbm/basic.py:1702: UserWarning: Using categorical_feature in Dataset.\n",
      "  _log_warning('Using categorical_feature in Dataset.')\n",
      "/media/ismaeel/Work/ThesisandProjects/msds19029_thesis/env/lib/python3.8/site-packages/lightgbm/basic.py:1705: UserWarning: categorical_feature in Dataset is overridden.\n",
      "New categorical_feature is ['CODE_GENDER', 'FLAG_OWN_CAR', 'NAME_CONTRACT_TYPE', 'NAME_EDUCATION_TYPE', 'NAME_FAMILY_STATUS', 'NAME_HOUSING_TYPE', 'NAME_INCOME_TYPE', 'NAME_TYPE_SUITE', 'OCCUPATION_TYPE', 'ORGANIZATION_TYPE', 'WALLSMATERIAL_MODE', 'WEEKDAY_APPR_PROCESS_START']\n",
      "  _log_warning('categorical_feature in Dataset is overridden.\\n'\n"
     ]
    },
    {
     "name": "stdout",
     "output_type": "stream",
     "text": [
      "[LightGBM] [Warning] num_threads is set with nthread=4, will be overridden by n_jobs=-1. Current value: num_threads=-1\n"
     ]
    },
    {
     "name": "stderr",
     "output_type": "stream",
     "text": [
      "/media/ismaeel/Work/ThesisandProjects/msds19029_thesis/env/lib/python3.8/site-packages/lightgbm/basic.py:1433: UserWarning: Overriding the parameters from Reference Dataset.\n",
      "  _log_warning('Overriding the parameters from Reference Dataset.')\n",
      "/media/ismaeel/Work/ThesisandProjects/msds19029_thesis/env/lib/python3.8/site-packages/lightgbm/basic.py:1245: UserWarning: categorical_column in param dict is overridden.\n",
      "  _log_warning('{} in param dict is overridden.'.format(cat_alias))\n"
     ]
    },
    {
     "name": "stdout",
     "output_type": "stream",
     "text": [
      "Training until validation scores don't improve for 100 rounds\n",
      "[400]\ttraining's auc: 0.794875\ttraining's binary_logloss: 0.240533\tvalid_1's auc: 0.760566\tvalid_1's binary_logloss: 0.246041\n",
      "[800]\ttraining's auc: 0.821876\ttraining's binary_logloss: 0.228732\tvalid_1's auc: 0.772493\tvalid_1's binary_logloss: 0.24111\n",
      "[1200]\ttraining's auc: 0.841606\ttraining's binary_logloss: 0.220606\tvalid_1's auc: 0.777197\tvalid_1's binary_logloss: 0.23939\n",
      "[1600]\ttraining's auc: 0.8583\ttraining's binary_logloss: 0.213797\tvalid_1's auc: 0.779495\tvalid_1's binary_logloss: 0.238529\n",
      "[2000]\ttraining's auc: 0.872822\ttraining's binary_logloss: 0.2077\tvalid_1's auc: 0.780717\tvalid_1's binary_logloss: 0.238108\n",
      "[2400]\ttraining's auc: 0.885633\ttraining's binary_logloss: 0.202133\tvalid_1's auc: 0.781379\tvalid_1's binary_logloss: 0.237877\n",
      "[2800]\ttraining's auc: 0.897226\ttraining's binary_logloss: 0.196896\tvalid_1's auc: 0.7818\tvalid_1's binary_logloss: 0.237733\n",
      "Early stopping, best iteration is:\n",
      "[2732]\ttraining's auc: 0.895262\ttraining's binary_logloss: 0.197785\tvalid_1's auc: 0.78192\tvalid_1's binary_logloss: 0.23771\n",
      "Fold  5 AUC : 0.781920\n"
     ]
    },
    {
     "name": "stderr",
     "output_type": "stream",
     "text": [
      "/media/ismaeel/Work/ThesisandProjects/msds19029_thesis/env/lib/python3.8/site-packages/lightgbm/basic.py:1702: UserWarning: Using categorical_feature in Dataset.\n",
      "  _log_warning('Using categorical_feature in Dataset.')\n",
      "/media/ismaeel/Work/ThesisandProjects/msds19029_thesis/env/lib/python3.8/site-packages/lightgbm/basic.py:1705: UserWarning: categorical_feature in Dataset is overridden.\n",
      "New categorical_feature is ['CODE_GENDER', 'FLAG_OWN_CAR', 'NAME_CONTRACT_TYPE', 'NAME_EDUCATION_TYPE', 'NAME_FAMILY_STATUS', 'NAME_HOUSING_TYPE', 'NAME_INCOME_TYPE', 'NAME_TYPE_SUITE', 'OCCUPATION_TYPE', 'ORGANIZATION_TYPE', 'WALLSMATERIAL_MODE', 'WEEKDAY_APPR_PROCESS_START']\n",
      "  _log_warning('categorical_feature in Dataset is overridden.\\n'\n"
     ]
    },
    {
     "name": "stdout",
     "output_type": "stream",
     "text": [
      "[LightGBM] [Warning] num_threads is set with nthread=4, will be overridden by n_jobs=-1. Current value: num_threads=-1\n"
     ]
    },
    {
     "name": "stderr",
     "output_type": "stream",
     "text": [
      "/media/ismaeel/Work/ThesisandProjects/msds19029_thesis/env/lib/python3.8/site-packages/lightgbm/basic.py:1433: UserWarning: Overriding the parameters from Reference Dataset.\n",
      "  _log_warning('Overriding the parameters from Reference Dataset.')\n",
      "/media/ismaeel/Work/ThesisandProjects/msds19029_thesis/env/lib/python3.8/site-packages/lightgbm/basic.py:1245: UserWarning: categorical_column in param dict is overridden.\n",
      "  _log_warning('{} in param dict is overridden.'.format(cat_alias))\n"
     ]
    },
    {
     "name": "stdout",
     "output_type": "stream",
     "text": [
      "Training until validation scores don't improve for 100 rounds\n",
      "[400]\ttraining's auc: 0.794724\ttraining's binary_logloss: 0.240144\tvalid_1's auc: 0.76142\tvalid_1's binary_logloss: 0.250126\n",
      "[800]\ttraining's auc: 0.821882\ttraining's binary_logloss: 0.228357\tvalid_1's auc: 0.774962\tvalid_1's binary_logloss: 0.244562\n",
      "[1200]\ttraining's auc: 0.841601\ttraining's binary_logloss: 0.220232\tvalid_1's auc: 0.780856\tvalid_1's binary_logloss: 0.242423\n",
      "[1600]\ttraining's auc: 0.858168\ttraining's binary_logloss: 0.213445\tvalid_1's auc: 0.783794\tvalid_1's binary_logloss: 0.241382\n",
      "[2000]\ttraining's auc: 0.872765\ttraining's binary_logloss: 0.207348\tvalid_1's auc: 0.785457\tvalid_1's binary_logloss: 0.240781\n",
      "[2400]\ttraining's auc: 0.885929\ttraining's binary_logloss: 0.201759\tvalid_1's auc: 0.786086\tvalid_1's binary_logloss: 0.240535\n",
      "Early stopping, best iteration is:\n",
      "[2626]\ttraining's auc: 0.892512\ttraining's binary_logloss: 0.198783\tvalid_1's auc: 0.786607\tvalid_1's binary_logloss: 0.240387\n",
      "Fold  6 AUC : 0.786607\n"
     ]
    },
    {
     "name": "stderr",
     "output_type": "stream",
     "text": [
      "/media/ismaeel/Work/ThesisandProjects/msds19029_thesis/env/lib/python3.8/site-packages/lightgbm/basic.py:1702: UserWarning: Using categorical_feature in Dataset.\n",
      "  _log_warning('Using categorical_feature in Dataset.')\n",
      "/media/ismaeel/Work/ThesisandProjects/msds19029_thesis/env/lib/python3.8/site-packages/lightgbm/basic.py:1705: UserWarning: categorical_feature in Dataset is overridden.\n",
      "New categorical_feature is ['CODE_GENDER', 'FLAG_OWN_CAR', 'NAME_CONTRACT_TYPE', 'NAME_EDUCATION_TYPE', 'NAME_FAMILY_STATUS', 'NAME_HOUSING_TYPE', 'NAME_INCOME_TYPE', 'NAME_TYPE_SUITE', 'OCCUPATION_TYPE', 'ORGANIZATION_TYPE', 'WALLSMATERIAL_MODE', 'WEEKDAY_APPR_PROCESS_START']\n",
      "  _log_warning('categorical_feature in Dataset is overridden.\\n'\n"
     ]
    },
    {
     "name": "stdout",
     "output_type": "stream",
     "text": [
      "[LightGBM] [Warning] num_threads is set with nthread=4, will be overridden by n_jobs=-1. Current value: num_threads=-1\n"
     ]
    },
    {
     "name": "stderr",
     "output_type": "stream",
     "text": [
      "/media/ismaeel/Work/ThesisandProjects/msds19029_thesis/env/lib/python3.8/site-packages/lightgbm/basic.py:1433: UserWarning: Overriding the parameters from Reference Dataset.\n",
      "  _log_warning('Overriding the parameters from Reference Dataset.')\n",
      "/media/ismaeel/Work/ThesisandProjects/msds19029_thesis/env/lib/python3.8/site-packages/lightgbm/basic.py:1245: UserWarning: categorical_column in param dict is overridden.\n",
      "  _log_warning('{} in param dict is overridden.'.format(cat_alias))\n"
     ]
    },
    {
     "name": "stdout",
     "output_type": "stream",
     "text": [
      "Training until validation scores don't improve for 100 rounds\n",
      "[400]\ttraining's auc: 0.794771\ttraining's binary_logloss: 0.239828\tvalid_1's auc: 0.762776\tvalid_1's binary_logloss: 0.252732\n",
      "[800]\ttraining's auc: 0.821795\ttraining's binary_logloss: 0.228071\tvalid_1's auc: 0.77446\tvalid_1's binary_logloss: 0.247434\n",
      "[1200]\ttraining's auc: 0.841482\ttraining's binary_logloss: 0.22\tvalid_1's auc: 0.779622\tvalid_1's binary_logloss: 0.245468\n",
      "[1600]\ttraining's auc: 0.858154\ttraining's binary_logloss: 0.213202\tvalid_1's auc: 0.782354\tvalid_1's binary_logloss: 0.244484\n",
      "[2000]\ttraining's auc: 0.872628\ttraining's binary_logloss: 0.207125\tvalid_1's auc: 0.783569\tvalid_1's binary_logloss: 0.244056\n",
      "[2400]\ttraining's auc: 0.885327\ttraining's binary_logloss: 0.201615\tvalid_1's auc: 0.784411\tvalid_1's binary_logloss: 0.243736\n",
      "Early stopping, best iteration is:\n",
      "[2564]\ttraining's auc: 0.89029\ttraining's binary_logloss: 0.199439\tvalid_1's auc: 0.784636\tvalid_1's binary_logloss: 0.24366\n",
      "Fold  7 AUC : 0.784636\n"
     ]
    },
    {
     "name": "stderr",
     "output_type": "stream",
     "text": [
      "/media/ismaeel/Work/ThesisandProjects/msds19029_thesis/env/lib/python3.8/site-packages/lightgbm/basic.py:1702: UserWarning: Using categorical_feature in Dataset.\n",
      "  _log_warning('Using categorical_feature in Dataset.')\n",
      "/media/ismaeel/Work/ThesisandProjects/msds19029_thesis/env/lib/python3.8/site-packages/lightgbm/basic.py:1705: UserWarning: categorical_feature in Dataset is overridden.\n",
      "New categorical_feature is ['CODE_GENDER', 'FLAG_OWN_CAR', 'NAME_CONTRACT_TYPE', 'NAME_EDUCATION_TYPE', 'NAME_FAMILY_STATUS', 'NAME_HOUSING_TYPE', 'NAME_INCOME_TYPE', 'NAME_TYPE_SUITE', 'OCCUPATION_TYPE', 'ORGANIZATION_TYPE', 'WALLSMATERIAL_MODE', 'WEEKDAY_APPR_PROCESS_START']\n",
      "  _log_warning('categorical_feature in Dataset is overridden.\\n'\n"
     ]
    },
    {
     "name": "stdout",
     "output_type": "stream",
     "text": [
      "[LightGBM] [Warning] num_threads is set with nthread=4, will be overridden by n_jobs=-1. Current value: num_threads=-1\n"
     ]
    },
    {
     "name": "stderr",
     "output_type": "stream",
     "text": [
      "/media/ismaeel/Work/ThesisandProjects/msds19029_thesis/env/lib/python3.8/site-packages/lightgbm/basic.py:1433: UserWarning: Overriding the parameters from Reference Dataset.\n",
      "  _log_warning('Overriding the parameters from Reference Dataset.')\n",
      "/media/ismaeel/Work/ThesisandProjects/msds19029_thesis/env/lib/python3.8/site-packages/lightgbm/basic.py:1245: UserWarning: categorical_column in param dict is overridden.\n",
      "  _log_warning('{} in param dict is overridden.'.format(cat_alias))\n"
     ]
    },
    {
     "name": "stdout",
     "output_type": "stream",
     "text": [
      "Training until validation scores don't improve for 100 rounds\n",
      "[400]\ttraining's auc: 0.795048\ttraining's binary_logloss: 0.240446\tvalid_1's auc: 0.765456\tvalid_1's binary_logloss: 0.246619\n",
      "[800]\ttraining's auc: 0.822142\ttraining's binary_logloss: 0.228645\tvalid_1's auc: 0.777092\tvalid_1's binary_logloss: 0.241378\n",
      "[1200]\ttraining's auc: 0.841938\ttraining's binary_logloss: 0.220528\tvalid_1's auc: 0.78222\tvalid_1's binary_logloss: 0.239366\n",
      "[1600]\ttraining's auc: 0.858362\ttraining's binary_logloss: 0.213758\tvalid_1's auc: 0.784538\tvalid_1's binary_logloss: 0.238454\n",
      "[2000]\ttraining's auc: 0.873039\ttraining's binary_logloss: 0.207686\tvalid_1's auc: 0.785941\tvalid_1's binary_logloss: 0.237954\n",
      "[2400]\ttraining's auc: 0.88606\ttraining's binary_logloss: 0.202068\tvalid_1's auc: 0.786965\tvalid_1's binary_logloss: 0.237583\n",
      "[2800]\ttraining's auc: 0.897685\ttraining's binary_logloss: 0.19683\tvalid_1's auc: 0.787338\tvalid_1's binary_logloss: 0.237396\n",
      "[3200]\ttraining's auc: 0.907969\ttraining's binary_logloss: 0.191931\tvalid_1's auc: 0.787909\tvalid_1's binary_logloss: 0.237179\n",
      "Early stopping, best iteration is:\n",
      "[3201]\ttraining's auc: 0.907987\ttraining's binary_logloss: 0.191921\tvalid_1's auc: 0.787911\tvalid_1's binary_logloss: 0.237177\n",
      "Fold  8 AUC : 0.787911\n"
     ]
    },
    {
     "name": "stderr",
     "output_type": "stream",
     "text": [
      "/media/ismaeel/Work/ThesisandProjects/msds19029_thesis/env/lib/python3.8/site-packages/lightgbm/basic.py:1702: UserWarning: Using categorical_feature in Dataset.\n",
      "  _log_warning('Using categorical_feature in Dataset.')\n",
      "/media/ismaeel/Work/ThesisandProjects/msds19029_thesis/env/lib/python3.8/site-packages/lightgbm/basic.py:1705: UserWarning: categorical_feature in Dataset is overridden.\n",
      "New categorical_feature is ['CODE_GENDER', 'FLAG_OWN_CAR', 'NAME_CONTRACT_TYPE', 'NAME_EDUCATION_TYPE', 'NAME_FAMILY_STATUS', 'NAME_HOUSING_TYPE', 'NAME_INCOME_TYPE', 'NAME_TYPE_SUITE', 'OCCUPATION_TYPE', 'ORGANIZATION_TYPE', 'WALLSMATERIAL_MODE', 'WEEKDAY_APPR_PROCESS_START']\n",
      "  _log_warning('categorical_feature in Dataset is overridden.\\n'\n"
     ]
    },
    {
     "name": "stdout",
     "output_type": "stream",
     "text": [
      "[LightGBM] [Warning] num_threads is set with nthread=4, will be overridden by n_jobs=-1. Current value: num_threads=-1\n"
     ]
    },
    {
     "name": "stderr",
     "output_type": "stream",
     "text": [
      "/media/ismaeel/Work/ThesisandProjects/msds19029_thesis/env/lib/python3.8/site-packages/lightgbm/basic.py:1433: UserWarning: Overriding the parameters from Reference Dataset.\n",
      "  _log_warning('Overriding the parameters from Reference Dataset.')\n",
      "/media/ismaeel/Work/ThesisandProjects/msds19029_thesis/env/lib/python3.8/site-packages/lightgbm/basic.py:1245: UserWarning: categorical_column in param dict is overridden.\n",
      "  _log_warning('{} in param dict is overridden.'.format(cat_alias))\n"
     ]
    },
    {
     "name": "stdout",
     "output_type": "stream",
     "text": [
      "Training until validation scores don't improve for 100 rounds\n",
      "[400]\ttraining's auc: 0.794432\ttraining's binary_logloss: 0.240396\tvalid_1's auc: 0.768072\tvalid_1's binary_logloss: 0.247636\n",
      "[800]\ttraining's auc: 0.822037\ttraining's binary_logloss: 0.228488\tvalid_1's auc: 0.778116\tvalid_1's binary_logloss: 0.242806\n",
      "[1200]\ttraining's auc: 0.841453\ttraining's binary_logloss: 0.220403\tvalid_1's auc: 0.781649\tvalid_1's binary_logloss: 0.24131\n",
      "[1600]\ttraining's auc: 0.858177\ttraining's binary_logloss: 0.213588\tvalid_1's auc: 0.783369\tvalid_1's binary_logloss: 0.240654\n",
      "[2000]\ttraining's auc: 0.87262\ttraining's binary_logloss: 0.20752\tvalid_1's auc: 0.78451\tvalid_1's binary_logloss: 0.240256\n",
      "[2400]\ttraining's auc: 0.885625\ttraining's binary_logloss: 0.201925\tvalid_1's auc: 0.785006\tvalid_1's binary_logloss: 0.240094\n",
      "Early stopping, best iteration is:\n",
      "[2648]\ttraining's auc: 0.892888\ttraining's binary_logloss: 0.198677\tvalid_1's auc: 0.785204\tvalid_1's binary_logloss: 0.240032\n",
      "Fold  9 AUC : 0.785204\n"
     ]
    },
    {
     "name": "stderr",
     "output_type": "stream",
     "text": [
      "/media/ismaeel/Work/ThesisandProjects/msds19029_thesis/env/lib/python3.8/site-packages/lightgbm/basic.py:1702: UserWarning: Using categorical_feature in Dataset.\n",
      "  _log_warning('Using categorical_feature in Dataset.')\n",
      "/media/ismaeel/Work/ThesisandProjects/msds19029_thesis/env/lib/python3.8/site-packages/lightgbm/basic.py:1705: UserWarning: categorical_feature in Dataset is overridden.\n",
      "New categorical_feature is ['CODE_GENDER', 'FLAG_OWN_CAR', 'NAME_CONTRACT_TYPE', 'NAME_EDUCATION_TYPE', 'NAME_FAMILY_STATUS', 'NAME_HOUSING_TYPE', 'NAME_INCOME_TYPE', 'NAME_TYPE_SUITE', 'OCCUPATION_TYPE', 'ORGANIZATION_TYPE', 'WALLSMATERIAL_MODE', 'WEEKDAY_APPR_PROCESS_START']\n",
      "  _log_warning('categorical_feature in Dataset is overridden.\\n'\n"
     ]
    },
    {
     "name": "stdout",
     "output_type": "stream",
     "text": [
      "[LightGBM] [Warning] num_threads is set with nthread=4, will be overridden by n_jobs=-1. Current value: num_threads=-1\n"
     ]
    },
    {
     "name": "stderr",
     "output_type": "stream",
     "text": [
      "/media/ismaeel/Work/ThesisandProjects/msds19029_thesis/env/lib/python3.8/site-packages/lightgbm/basic.py:1433: UserWarning: Overriding the parameters from Reference Dataset.\n",
      "  _log_warning('Overriding the parameters from Reference Dataset.')\n",
      "/media/ismaeel/Work/ThesisandProjects/msds19029_thesis/env/lib/python3.8/site-packages/lightgbm/basic.py:1245: UserWarning: categorical_column in param dict is overridden.\n",
      "  _log_warning('{} in param dict is overridden.'.format(cat_alias))\n"
     ]
    },
    {
     "name": "stdout",
     "output_type": "stream",
     "text": [
      "Training until validation scores don't improve for 100 rounds\n",
      "[400]\ttraining's auc: 0.795132\ttraining's binary_logloss: 0.240456\tvalid_1's auc: 0.7631\tvalid_1's binary_logloss: 0.246632\n",
      "[800]\ttraining's auc: 0.822152\ttraining's binary_logloss: 0.228631\tvalid_1's auc: 0.772987\tvalid_1's binary_logloss: 0.241891\n",
      "[1200]\ttraining's auc: 0.841973\ttraining's binary_logloss: 0.220497\tvalid_1's auc: 0.777444\tvalid_1's binary_logloss: 0.240059\n",
      "[1600]\ttraining's auc: 0.858617\ttraining's binary_logloss: 0.213671\tvalid_1's auc: 0.779432\tvalid_1's binary_logloss: 0.239266\n",
      "[2000]\ttraining's auc: 0.873135\ttraining's binary_logloss: 0.207575\tvalid_1's auc: 0.780693\tvalid_1's binary_logloss: 0.238755\n",
      "[2400]\ttraining's auc: 0.886066\ttraining's binary_logloss: 0.201968\tvalid_1's auc: 0.781685\tvalid_1's binary_logloss: 0.23841\n",
      "[2800]\ttraining's auc: 0.897566\ttraining's binary_logloss: 0.196754\tvalid_1's auc: 0.782183\tvalid_1's binary_logloss: 0.238233\n",
      "Early stopping, best iteration is:\n",
      "[3011]\ttraining's auc: 0.903079\ttraining's binary_logloss: 0.194147\tvalid_1's auc: 0.78244\tvalid_1's binary_logloss: 0.238132\n",
      "Fold 10 AUC : 0.782440\n",
      "Full AUC score 0.783960\n"
     ]
    }
   ],
   "source": [
    "lgbm_categorical_feat = [\n",
    "    'CODE_GENDER', 'FLAG_OWN_CAR', 'NAME_CONTRACT_TYPE', 'NAME_EDUCATION_TYPE',\n",
    "    'NAME_FAMILY_STATUS', 'NAME_HOUSING_TYPE', 'NAME_INCOME_TYPE', 'OCCUPATION_TYPE',\n",
    "    'ORGANIZATION_TYPE', 'WEEKDAY_APPR_PROCESS_START', 'NAME_TYPE_SUITE', 'WALLSMATERIAL_MODE']\n",
    "clf = kfold_lightgbm_sklearn(train, test, lgbm_categorical_feat)"
   ]
  },
  {
   "cell_type": "code",
   "execution_count": 9,
   "id": "10d5af19",
   "metadata": {},
   "outputs": [],
   "source": [
    "model = lgb.Booster(model_file='/media/ismaeel/Work/msds19029_thesis/home credit/LGBM.txt')\n",
    "feats = [f for f in train.columns if f not in ['TARGET','SK_ID_CURR','SK_ID_BUREAU','SK_ID_PREV','index']]"
   ]
  },
  {
   "cell_type": "code",
   "execution_count": 10,
   "id": "a5ea332b",
   "metadata": {},
   "outputs": [],
   "source": [
    "test = train[feats]\n",
    "labels = train['TARGET']\n",
    "\n",
    "pred = model.predict(test)\n",
    "th = find_optimal_cutoff(labels, pred)\n",
    "pred = np.where(pred > th, 1, 0)\n",
    "cm = confusion_matrix(labels, pred)"
   ]
  },
  {
   "cell_type": "code",
   "execution_count": 11,
   "id": "e94b9734",
   "metadata": {},
   "outputs": [
    {
     "name": "stdout",
     "output_type": "stream",
     "text": [
      "              precision    recall  f1-score   support\n",
      "\n",
      "    Approved       0.98      0.80      0.88    220280\n",
      "    Declined       0.26      0.80      0.39     19538\n",
      "\n",
      "    accuracy                           0.80    239818\n",
      "   macro avg       0.62      0.80      0.63    239818\n",
      "weighted avg       0.92      0.80      0.84    239818\n",
      "\n"
     ]
    }
   ],
   "source": [
    "cr = classification_report(labels, pred, target_names=['Approved', 'Declined'])\n",
    "print(cr)"
   ]
  },
  {
   "cell_type": "code",
   "execution_count": 12,
   "id": "a71bd14b",
   "metadata": {},
   "outputs": [
    {
     "name": "stdout",
     "output_type": "stream",
     "text": [
      "Binary: ROC AUC=0.797\n"
     ]
    },
    {
     "data": {
      "text/plain": [
       "<function matplotlib.pyplot.show(close=None, block=None)>"
      ]
     },
     "execution_count": 12,
     "metadata": {},
     "output_type": "execute_result"
    },
    {
     "data": {
      "image/png": "[encoded data removed]",
      "text/plain": [
       "<Figure size 360x360 with 1 Axes>"
      ]
     },
     "metadata": {
      "needs_background": "light"
     },
     "output_type": "display_data"
    }
   ],
   "source": [
    "ns_probs = [0 for _ in range(len(labels))]\n",
    "ns_auc = roc_auc_score(labels, ns_probs)\n",
    "lr_auc = roc_auc_score(labels, pred)\n",
    "print('Binary: ROC AUC=%.3f' % (lr_auc))\n",
    "plt.figure(figsize=(5, 5))\n",
    "ns_fpr, ns_tpr, th1 = roc_curve(labels, ns_probs)\n",
    "lr_fpr, lr_tpr, th2 = roc_curve(labels, pred)\n",
    "plt.plot(ns_fpr, ns_tpr, linestyle='--', label='No Skill')\n",
    "plt.plot(lr_fpr, lr_tpr, marker='.', label='Binary Classification')\n",
    "plt.xlabel('False Positive Rate')\n",
    "plt.ylabel('True Positive Rate')\n",
    "plt.legend()\n",
    "plt.show"
   ]
  },
  {
   "cell_type": "code",
   "execution_count": 13,
   "id": "f8b70c17",
   "metadata": {},
   "outputs": [
    {
     "data": {
      "image/png": "[encoded data removed]",
      "text/plain": [
       "<Figure size 576x432 with 2 Axes>"
      ]
     },
     "metadata": {
      "needs_background": "light"
     },
     "output_type": "display_data"
    }
   ],
   "source": [
    "plot_confusion_matrix(cm, \n",
    "                      normalize    = False,\n",
    "                      target_names = ['Approved', 'Declined'],\n",
    "                      title        = \"Confusion Matrix\")"
   ]
  },
  {
   "cell_type": "code",
   "execution_count": 16,
   "id": "83d773ca",
   "metadata": {},
   "outputs": [],
   "source": [
    "input_ = test[feats]\n",
    "labels = test['TARGET']\n",
    "\n",
    "pred = model.predict(input_)\n",
    "th = find_optimal_cutoff(labels, pred)\n",
    "pred = np.where(pred > th, 1, 0)\n",
    "cm = confusion_matrix(labels, pred)"
   ]
  },
  {
   "cell_type": "code",
   "execution_count": 17,
   "id": "a0e230da",
   "metadata": {},
   "outputs": [
    {
     "name": "stdout",
     "output_type": "stream",
     "text": [
      "              precision    recall  f1-score   support\n",
      "\n",
      "    Approved       0.97      0.72      0.83     24453\n",
      "    Declined       0.19      0.72      0.30      2194\n",
      "\n",
      "    accuracy                           0.72     26647\n",
      "   macro avg       0.58      0.72      0.56     26647\n",
      "weighted avg       0.90      0.72      0.78     26647\n",
      "\n"
     ]
    }
   ],
   "source": [
    "cr = classification_report(labels, pred, target_names=['Approved', 'Declined'])\n",
    "print(cr)"
   ]
  },
  {
   "cell_type": "code",
   "execution_count": 18,
   "id": "236df05e",
   "metadata": {},
   "outputs": [
    {
     "name": "stdout",
     "output_type": "stream",
     "text": [
      "Binary: ROC AUC=0.722\n"
     ]
    },
    {
     "data": {
      "text/plain": [
       "<function matplotlib.pyplot.show(close=None, block=None)>"
      ]
     },
     "execution_count": 18,
     "metadata": {},
     "output_type": "execute_result"
    },
    {
     "data": {
      "image/png": "[encoded data removed]",
      "text/plain": [
       "<Figure size 360x360 with 1 Axes>"
      ]
     },
     "metadata": {
      "needs_background": "light"
     },
     "output_type": "display_data"
    }
   ],
   "source": [
    "ns_probs = [0 for _ in range(len(labels))]\n",
    "ns_auc = roc_auc_score(labels, ns_probs)\n",
    "lr_auc = roc_auc_score(labels, pred)\n",
    "print('Binary: ROC AUC=%.3f' % (lr_auc))\n",
    "plt.figure(figsize=(5, 5))\n",
    "ns_fpr, ns_tpr, th1 = roc_curve(labels, ns_probs)\n",
    "lr_fpr, lr_tpr, th2 = roc_curve(labels, pred)\n",
    "plt.plot(ns_fpr, ns_tpr, linestyle='--', label='No Skill')\n",
    "plt.plot(lr_fpr, lr_tpr, marker='.', label='Binary Classification')\n",
    "plt.xlabel('False Positive Rate')\n",
    "plt.ylabel('True Positive Rate')\n",
    "plt.legend()\n",
    "plt.show"
   ]
  },
  {
   "cell_type": "code",
   "execution_count": 19,
   "id": "65dd9e95",
   "metadata": {},
   "outputs": [
    {
     "data": {
      "image/png": "[encoded data removed]",
      "text/plain": [
       "<Figure size 576x432 with 2 Axes>"
      ]
     },
     "metadata": {
      "needs_background": "light"
     },
     "output_type": "display_data"
    }
   ],
   "source": [
    "plot_confusion_matrix(cm, \n",
    "                      normalize    = False,\n",
    "                      target_names = ['Approved', 'Declined'],\n",
    "                      title        = \"Confusion Matrix\")"
   ]
  },
  {
   "cell_type": "code",
   "execution_count": null,
   "id": "36aa42f5",
   "metadata": {},
   "outputs": [],
   "source": []
  }
 ],
 "metadata": {
  "kernelspec": {
   "display_name": "Python 3",
   "language": "python",
   "name": "python3"
  },
  "language_info": {
   "codemirror_mode": {
    "name": "ipython",
    "version": 3
   },
   "file_extension": ".py",
   "mimetype": "text/x-python",
   "name": "python",
   "nbconvert_exporter": "python",
   "pygments_lexer": "ipython3",
   "version": "3.8.10"
  }
 },
 "nbformat": 4,
 "nbformat_minor": 5
}
